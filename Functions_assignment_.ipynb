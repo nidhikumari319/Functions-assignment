{
  "nbformat": 4,
  "nbformat_minor": 0,
  "metadata": {
    "colab": {
      "provenance": [],
      "include_colab_link": true
    },
    "kernelspec": {
      "name": "python3",
      "display_name": "Python 3"
    },
    "language_info": {
      "name": "python"
    }
  },
  "cells": [
    {
      "cell_type": "markdown",
      "metadata": {
        "id": "view-in-github",
        "colab_type": "text"
      },
      "source": [
        "<a href=\"https://colab.research.google.com/github/nidhikumari319/Functions-assignment/blob/main/Functions_assignment_.ipynb\" target=\"_parent\"><img src=\"https://colab.research.google.com/assets/colab-badge.svg\" alt=\"Open In Colab\"/></a>"
      ]
    },
    {
      "cell_type": "markdown",
      "source": [
        "# Theory Questions:-\n",
        "Q.1 What is the difference between a function and a method in Python?\n",
        "\n",
        "Ans:- 1)Functions:- function is a block of code which performs some specific task or computation. functions are reusable, neat, clean and organised, it saves time. It is not associated with any particular object or class.\n",
        "Ex. def greeting():\n",
        "        print(\"welcome to office\")\n",
        "  Ans:- greeting() :- 'welcome to office'\n",
        "\n",
        "2)Method:- A method is essentially a function that is associated with an object and operates on the data contained within that object. Methods are defined within classes.A method is a function that is associated with an object or class.It is called on an instance of a class (an object) and has access to the object's attributes (data).\n",
        "Ex. # Method\n",
        "\n",
        "class Person:\n",
        "    def __init__(self, name):\n",
        "        self.name = name\n",
        "\n",
        "   def greet(self):\n",
        "        print(\"Hello, \" + self.name)\n",
        "        \n",
        "output:- person = Person(\"Jane\")\n",
        "person.greet()  # Output: Hello, Jane\n",
        "        \n",
        "\n",
        "\n"
      ],
      "metadata": {
        "id": "u94W5it5oF2N"
      }
    },
    {
      "cell_type": "code",
      "source": [],
      "metadata": {
        "id": "dPvK0TGssVP9"
      },
      "execution_count": null,
      "outputs": []
    },
    {
      "cell_type": "markdown",
      "source": [
        "Q. 2 Explain the concept of function arguments and parameters in Python.\n",
        "\n",
        "Ans:-1) Argument:-Arguments are the actual values or data you pass to the function when you call it. These values are assigned to the function's parameters.\n",
        "\n",
        "EX.def sq(a): # 5 is an argument\n",
        "   return a*a\n",
        "   sq(5) Ans:-25\n",
        "\n",
        "2)Parameter:-Parameters are the variables listed inside the parentheses in the function definition. They act as placeholders for the values that will be passed to the function when it is called to perform.\n",
        "\n",
        "EX. def add(a,b): # a and b are variables\n",
        "   return a+b\n"
      ],
      "metadata": {
        "id": "aSCObyztsdV7"
      }
    },
    {
      "cell_type": "markdown",
      "source": [],
      "metadata": {
        "id": "EynFKjapsXfc"
      }
    },
    {
      "cell_type": "markdown",
      "source": [
        "Q.3 What are the different ways to define and call a function in Python?\n",
        "\n",
        "Ans:-In Python, there are several ways to define and call functions, depending on the type of function you need.\n",
        "\n",
        "1- def add(a,b): #basic function\n",
        "      return a+b # this is define function\n",
        "      \n",
        "   its output add(10,4) # is the call function\n",
        "   \n",
        "2- add=lambda a,b:a+b #define fuction #lambda function\n",
        "\n",
        "output add(3,4) # is call function\n",
        "\n",
        "3- def count_up_to(n): # generator function\n",
        "       count = 1\n",
        "     while count <= n:# define function\n",
        "        yield count\n",
        "        count += 1  \n",
        "\n",
        "  for number in count_up_to(5): # it is calling function\n",
        "     print(number)  # Output: 1 2 3 4 5 (one at a time)         "
      ],
      "metadata": {
        "id": "souDgEu3_4Pa"
      }
    },
    {
      "cell_type": "code",
      "source": [],
      "metadata": {
        "id": "ikKiIVgjGFiz"
      },
      "execution_count": null,
      "outputs": []
    },
    {
      "cell_type": "markdown",
      "source": [
        "Q.4 What is the purpose of the `return` statement in a Python function?\n",
        "\n",
        "Ans:-1)The return statement allows a function to exit and pass a value back to the caller.2)It can return a single value, multiple values (as a tuple), or no value (None).3)Once return is executed, no further code inside the function is executed.4)Enables functions to exit early if a condition is met or an error occurs.\n",
        "Ex.def add_two_number():\n",
        "  a = int(input(\"enter the first number\"))\n",
        "  b = int(input(\"enter the second number\"))\n",
        "  return a+b\n",
        "  add_two_number()\n",
        "\n",
        "  output :-enter the first number5\n",
        "\n",
        "enter the second number7\n",
        "\n",
        "=12\n"
      ],
      "metadata": {
        "id": "2SqRl-6EGogE"
      }
    },
    {
      "cell_type": "code",
      "source": [],
      "metadata": {
        "id": "7HACLETwIfpL"
      },
      "execution_count": null,
      "outputs": []
    },
    {
      "cell_type": "markdown",
      "source": [
        "Q. 5 What are iterators in Python and how do they differ from iterables?\n",
        "\n",
        "Ans:-1) Iterables:- An object capable of returning its elements one by one. Can be looped over (e.g., lists, strings).\n",
        "an iterable is any python object/sequential str/data structure that is capable of returnig its member one at a time.\n",
        "\n",
        "2)iterators:-an iterator is an object represting a stream of data. it return the data one by one.\n",
        "iteration is a process of looping through the elements of an iterable(list, string)\n",
        "\n",
        "Ex. l = [1, 2,\"pwskills\",\"DA\"]: # it is iterable\n",
        "and a = ite(l) >> next(a) is output # it gives the iterators\n"
      ],
      "metadata": {
        "id": "rsh1djjzIg7r"
      }
    },
    {
      "cell_type": "code",
      "source": [],
      "metadata": {
        "id": "rSIBwIdHWMr1"
      },
      "execution_count": null,
      "outputs": []
    },
    {
      "cell_type": "markdown",
      "source": [
        "Q.6 Explain the concept of generators in Python and how they are defined.\n",
        "\n",
        "Ans:- Ganarator:- Functions or expressions that allow you to iterate over values lazily, producing items on-the-fly without storing them all in memory.\n",
        "\n",
        "Generators in Python are a type of iterable object that can be used to generate a sequence of values on the fly, rather than storing them in memory all at once. They are defined using a function that contains a yield statement.\n",
        "EX.def square_numbers_generators(n):# yield generator function\n",
        "    for i in range (n):\n",
        "        yield i**2\n",
        "square_numbers_generators(10)\n",
        "\n",
        "Output:-gen = square_numbers_generators(10)>>next(gen)\n",
        "ans- 0,1,4\n",
        "\n"
      ],
      "metadata": {
        "id": "7BAMJsmvWZcW"
      }
    },
    {
      "cell_type": "markdown",
      "source": [
        "Q.7 What are the advantages of using generators over regular functions?\n",
        "\n",
        "Ans:-Generators provide several advantages over regular functions, especially in scenarios where memory efficiency and performance are key.\n",
        "\n",
        "1. Memory efficiency: Generators use significantly less memory than regular functions because they only store the current state of the iteration, not the entire sequence.\n",
        "\n",
        "2. Lazy evaluation: Generators only compute values when needed, which can be more efficient than computing all values at once.\n",
        "\n",
        "3. Flexibility: Generators can be used to generate a wide range of sequences, from simple numbers to complex data structures.\n",
        "\n",
        "4. Improved performance: Generators can perform better than regular functions when dealing with large datasets or computationally expensive operations.\n",
        "\n",
        "5. Simplified code: Generators can simplify code by eliminating the need for complex loops and conditional statements.\n",
        "\n"
      ],
      "metadata": {
        "id": "0N2vSA4mWRLp"
      }
    },
    {
      "cell_type": "code",
      "source": [],
      "metadata": {
        "id": "GdYP_C4HaFD5"
      },
      "execution_count": null,
      "outputs": []
    },
    {
      "cell_type": "markdown",
      "source": [
        "Q.8 What is a lambda function in Python and when is it typically used?\n",
        "\n",
        "Ans:-A lambda function in Python is an anonymous, inline function defined using the lambda keyword. It can take any number of arguments but only has a single expression.\n",
        "use:-Lambda functions are typically used when you need a small, simple function for a short period of time, particularly in places where defining a full function using def would be overkill.\n",
        "\n",
        "Ex.a = lambda x: x**2 # it help to solve code easily\n",
        " a(15) >> 225"
      ],
      "metadata": {
        "id": "ssWIG3QKaF-S"
      }
    },
    {
      "cell_type": "code",
      "source": [],
      "metadata": {
        "id": "eTSUCKwubZ49"
      },
      "execution_count": null,
      "outputs": []
    },
    {
      "cell_type": "markdown",
      "source": [
        "Q.9 Explain the purpose and usage of the `map()` function in Python.\n",
        "\n",
        "Ans:-The map() function in Python is a built-in function that applies a given function to each item of an iterable (such as a list, tuple, or string) and returns a list of the results. The purpose of map() is to:\n",
        "\n",
        "1. Transform data: Apply a function to each element of an iterable to transform or manipulate the data.\n",
        "2. Simplify code: Replace loops that apply a function to each element of an iterable with a more concise and readable map() call.\n",
        "3. Improve performance: In some cases, map() can be faster than using a loop.\n",
        "\n",
        "Usage: map(function, iterable)\n",
        "\n",
        "Ex.\n",
        "  def sq(x):\n",
        "     return x**2\n",
        "\n",
        "  L= [1, 2, 3, 4, 5, 6, 7, 8, 9]\n",
        "\n",
        "output:- list(map(sq,l)) >> [1, 4, 9, 16, 25, 36, 49, 64, 81]\n"
      ],
      "metadata": {
        "id": "McwkerLGbcjD"
      }
    },
    {
      "cell_type": "code",
      "source": [],
      "metadata": {
        "id": "BABO8c4GeayM"
      },
      "execution_count": null,
      "outputs": []
    },
    {
      "cell_type": "markdown",
      "source": [
        "Q. 10 What is the difference between `map()`, `reduce()`, and `filter()` functions in Python?\n",
        "\n",
        "Ans:-1. map():\n",
        "    - 1) Applies a given function to each item of an iterable.\n",
        "    2)Returns a list of the results.\n",
        "    3)Purpose: Transform data, simplify code, and improve performance.\n",
        "2. reduce():- 1) Applies a given function to the first two items of an iterable, then to the result and the next item, and so on.\n",
        "    2)Returns a single output.\n",
        "    3)Purpose: Aggregate data, perform cumulative operations, and reduce data to a single value.\n",
        "3. filter():- 1) Applies a given function to each item of an iterable and returns a list of items for which the function returns True.\n",
        "2)Purpose: Select specific data, remove unwanted data, and simplify code.\n",
        "\n",
        "\n",
        "\n"
      ],
      "metadata": {
        "id": "AGF_-e5kebrc"
      }
    },
    {
      "cell_type": "code",
      "source": [],
      "metadata": {
        "id": "q8WVF6_dfvDI"
      },
      "execution_count": null,
      "outputs": []
    },
    {
      "cell_type": "markdown",
      "source": [
        "Q.11 Using pen & Paper write the internal mechanism for sum operation using reduce function on this given\n",
        "list:[47,11,42,13].\n",
        "\n",
        "Ans:-the internal mechanism for the sum operation using the reduce function on the given list.[47,11,42,13]\n",
        "\n",
        "# Syntex :-reduce(func,iterable)\n",
        "reduce(lambda x, y: x + y, [47, 11, 42, 13])\n",
        "\n",
        "first we have two basic numbers i.e. = 47 & 11 are x & y so add this two we get 47+11=58\n",
        "second we have get the new X value and y value i.e.= 58 & 42 are x & y add this two we get 58+42=100\n",
        "third we have get the new x value and y value i.e.= 100 & 13 are x & y add this two we get 100+13= 113 is the reduce function\n"
      ],
      "metadata": {
        "id": "AqinUOysfxVT"
      }
    },
    {
      "cell_type": "code",
      "source": [],
      "metadata": {
        "id": "7bupqIBJidqL"
      },
      "execution_count": null,
      "outputs": []
    },
    {
      "cell_type": "markdown",
      "source": [
        "#Practical Questions:-"
      ],
      "metadata": {
        "id": "RysTlIgcieiq"
      }
    },
    {
      "cell_type": "markdown",
      "source": [
        " Q.1 Write a Python function that takes a list of numbers as input and returns the sum of all even numbers in\n",
        "the list.\n",
        "\n",
        "Ans:-"
      ],
      "metadata": {
        "id": "EH5zqW_KjD1V"
      }
    },
    {
      "cell_type": "code",
      "source": [
        "def sum_even_numbers(numbers):\n",
        "    return sum(num for num in numbers if num % 2 == 0)\n",
        "\n"
      ],
      "metadata": {
        "id": "5ip8MHMRjB36"
      },
      "execution_count": null,
      "outputs": []
    },
    {
      "cell_type": "code",
      "source": [
        "numbers = [11, 12,13, 14, 15, 16]\n"
      ],
      "metadata": {
        "id": "ZDyPIcVPjqia"
      },
      "execution_count": null,
      "outputs": []
    },
    {
      "cell_type": "code",
      "source": [
        "sum_even_numbers(numbers)\n"
      ],
      "metadata": {
        "colab": {
          "base_uri": "https://localhost:8080/"
        },
        "id": "6leqlvn8kGXg",
        "outputId": "6eff45bd-280a-4049-a60d-6de541b7e1ac"
      },
      "execution_count": null,
      "outputs": [
        {
          "output_type": "execute_result",
          "data": {
            "text/plain": [
              "42"
            ]
          },
          "metadata": {},
          "execution_count": 6
        }
      ]
    },
    {
      "cell_type": "code",
      "source": [
        "def sum_even_numbers(numbers): # we can use lambda function also\n",
        "    return sum(filter(lambda x: x % 2 == 0, numbers))\n"
      ],
      "metadata": {
        "id": "1eIhKsbNkR5h"
      },
      "execution_count": null,
      "outputs": []
    },
    {
      "cell_type": "code",
      "source": [
        "sum_even_numbers(numbers)"
      ],
      "metadata": {
        "colab": {
          "base_uri": "https://localhost:8080/"
        },
        "id": "F1dFu2OUkZNg",
        "outputId": "24caa54b-3c10-466b-b9c2-2129f4085735"
      },
      "execution_count": null,
      "outputs": [
        {
          "output_type": "execute_result",
          "data": {
            "text/plain": [
              "42"
            ]
          },
          "metadata": {},
          "execution_count": 8
        }
      ]
    },
    {
      "cell_type": "markdown",
      "source": [
        "Q. 2 Create a Python function that accepts a string and returns the reverse of that string."
      ],
      "metadata": {
        "id": "vA4iIgI1km63"
      }
    },
    {
      "cell_type": "code",
      "source": [
        "def reverse_string(s):\n",
        "    return s[::-1]\n"
      ],
      "metadata": {
        "id": "prfp5S5Xk81D"
      },
      "execution_count": null,
      "outputs": []
    },
    {
      "cell_type": "code",
      "source": [
        "s = \"krishna\""
      ],
      "metadata": {
        "id": "IoHSrlj7k_8P"
      },
      "execution_count": null,
      "outputs": []
    },
    {
      "cell_type": "code",
      "source": [
        "reverse_string(s) # reverse function"
      ],
      "metadata": {
        "colab": {
          "base_uri": "https://localhost:8080/",
          "height": 35
        },
        "id": "M_6xToCPlFwA",
        "outputId": "19d319ed-543f-4f14-8024-3f00eacdf4b5"
      },
      "execution_count": null,
      "outputs": [
        {
          "output_type": "execute_result",
          "data": {
            "text/plain": [
              "'anhsirk'"
            ],
            "application/vnd.google.colaboratory.intrinsic+json": {
              "type": "string"
            }
          },
          "metadata": {},
          "execution_count": 11
        }
      ]
    },
    {
      "cell_type": "markdown",
      "source": [
        "Q. 3 Implement a Python function that takes a list of integers and returns a new list containing the squares of\n",
        "each number.\n"
      ],
      "metadata": {
        "id": "sLIuIr-_lRnJ"
      }
    },
    {
      "cell_type": "code",
      "source": [
        "def square_numbers(numbers):\n",
        "    return [num ** 2 for num in numbers]"
      ],
      "metadata": {
        "id": "pbFjvhBglYbC"
      },
      "execution_count": null,
      "outputs": []
    },
    {
      "cell_type": "code",
      "source": [
        "numbers = [10, 42, 33, 54, 85]"
      ],
      "metadata": {
        "id": "Hf72iDxllmjJ"
      },
      "execution_count": null,
      "outputs": []
    },
    {
      "cell_type": "code",
      "source": [
        "squared_numbers = square_numbers(numbers)\n",
        "print(squared_numbers)"
      ],
      "metadata": {
        "colab": {
          "base_uri": "https://localhost:8080/"
        },
        "id": "NTY9ZOpml4-i",
        "outputId": "694927e7-ee99-4d42-c0df-dc4dd6e3b559"
      },
      "execution_count": null,
      "outputs": [
        {
          "output_type": "stream",
          "name": "stdout",
          "text": [
            "[100, 1764, 1089, 2916, 7225]\n"
          ]
        }
      ]
    },
    {
      "cell_type": "code",
      "source": [
        "def square_numbers(numbers): # lambda function used\n",
        "    return list(map(lambda x: x ** 2, numbers))\n"
      ],
      "metadata": {
        "id": "hfq_I0yFl63p"
      },
      "execution_count": null,
      "outputs": []
    },
    {
      "cell_type": "code",
      "source": [
        "square_numbers(numbers)"
      ],
      "metadata": {
        "colab": {
          "base_uri": "https://localhost:8080/"
        },
        "id": "Ig8EpCAEmJZZ",
        "outputId": "4bba318d-c503-4699-f68e-18c3d43d6150"
      },
      "execution_count": null,
      "outputs": [
        {
          "output_type": "execute_result",
          "data": {
            "text/plain": [
              "[100, 1764, 1089, 2916, 7225]"
            ]
          },
          "metadata": {},
          "execution_count": 18
        }
      ]
    },
    {
      "cell_type": "markdown",
      "source": [
        "Q.4 Write a Python function that checks if a given number is prime or not from 1 to 200.\n",
        "\n",
        "Ans:-\n",
        "\n"
      ],
      "metadata": {
        "id": "R_ylv2v7mXSW"
      }
    },
    {
      "cell_type": "code",
      "source": [
        "def is_prime(n):\n",
        "    if n <= 1:\n",
        "        return False\n",
        "    for i in range(2, int(n**0.5) + 1):\n",
        "        if n % i == 0:\n",
        "            return False\n",
        "    return True\n",
        "\n"
      ],
      "metadata": {
        "id": "oR7qVwHHmf3i"
      },
      "execution_count": null,
      "outputs": []
    },
    {
      "cell_type": "code",
      "source": [
        "for num in range(1, 201):\n",
        "    if is_prime(num):\n",
        "        print(f\"{num} is a prime number\")\n",
        "    else:\n",
        "        print(f\"{num} is not a prime number\")\n"
      ],
      "metadata": {
        "colab": {
          "base_uri": "https://localhost:8080/"
        },
        "id": "3n98X5e6m6OH",
        "outputId": "37079015-2ea8-4d20-ae30-880f389f2449"
      },
      "execution_count": null,
      "outputs": [
        {
          "output_type": "stream",
          "name": "stdout",
          "text": [
            "1 is not a prime number\n",
            "2 is a prime number\n",
            "3 is a prime number\n",
            "4 is not a prime number\n",
            "5 is a prime number\n",
            "6 is not a prime number\n",
            "7 is a prime number\n",
            "8 is not a prime number\n",
            "9 is not a prime number\n",
            "10 is not a prime number\n",
            "11 is a prime number\n",
            "12 is not a prime number\n",
            "13 is a prime number\n",
            "14 is not a prime number\n",
            "15 is not a prime number\n",
            "16 is not a prime number\n",
            "17 is a prime number\n",
            "18 is not a prime number\n",
            "19 is a prime number\n",
            "20 is not a prime number\n",
            "21 is not a prime number\n",
            "22 is not a prime number\n",
            "23 is a prime number\n",
            "24 is not a prime number\n",
            "25 is not a prime number\n",
            "26 is not a prime number\n",
            "27 is not a prime number\n",
            "28 is not a prime number\n",
            "29 is a prime number\n",
            "30 is not a prime number\n",
            "31 is a prime number\n",
            "32 is not a prime number\n",
            "33 is not a prime number\n",
            "34 is not a prime number\n",
            "35 is not a prime number\n",
            "36 is not a prime number\n",
            "37 is a prime number\n",
            "38 is not a prime number\n",
            "39 is not a prime number\n",
            "40 is not a prime number\n",
            "41 is a prime number\n",
            "42 is not a prime number\n",
            "43 is a prime number\n",
            "44 is not a prime number\n",
            "45 is not a prime number\n",
            "46 is not a prime number\n",
            "47 is a prime number\n",
            "48 is not a prime number\n",
            "49 is not a prime number\n",
            "50 is not a prime number\n",
            "51 is not a prime number\n",
            "52 is not a prime number\n",
            "53 is a prime number\n",
            "54 is not a prime number\n",
            "55 is not a prime number\n",
            "56 is not a prime number\n",
            "57 is not a prime number\n",
            "58 is not a prime number\n",
            "59 is a prime number\n",
            "60 is not a prime number\n",
            "61 is a prime number\n",
            "62 is not a prime number\n",
            "63 is not a prime number\n",
            "64 is not a prime number\n",
            "65 is not a prime number\n",
            "66 is not a prime number\n",
            "67 is a prime number\n",
            "68 is not a prime number\n",
            "69 is not a prime number\n",
            "70 is not a prime number\n",
            "71 is a prime number\n",
            "72 is not a prime number\n",
            "73 is a prime number\n",
            "74 is not a prime number\n",
            "75 is not a prime number\n",
            "76 is not a prime number\n",
            "77 is not a prime number\n",
            "78 is not a prime number\n",
            "79 is a prime number\n",
            "80 is not a prime number\n",
            "81 is not a prime number\n",
            "82 is not a prime number\n",
            "83 is a prime number\n",
            "84 is not a prime number\n",
            "85 is not a prime number\n",
            "86 is not a prime number\n",
            "87 is not a prime number\n",
            "88 is not a prime number\n",
            "89 is a prime number\n",
            "90 is not a prime number\n",
            "91 is not a prime number\n",
            "92 is not a prime number\n",
            "93 is not a prime number\n",
            "94 is not a prime number\n",
            "95 is not a prime number\n",
            "96 is not a prime number\n",
            "97 is a prime number\n",
            "98 is not a prime number\n",
            "99 is not a prime number\n",
            "100 is not a prime number\n",
            "101 is a prime number\n",
            "102 is not a prime number\n",
            "103 is a prime number\n",
            "104 is not a prime number\n",
            "105 is not a prime number\n",
            "106 is not a prime number\n",
            "107 is a prime number\n",
            "108 is not a prime number\n",
            "109 is a prime number\n",
            "110 is not a prime number\n",
            "111 is not a prime number\n",
            "112 is not a prime number\n",
            "113 is a prime number\n",
            "114 is not a prime number\n",
            "115 is not a prime number\n",
            "116 is not a prime number\n",
            "117 is not a prime number\n",
            "118 is not a prime number\n",
            "119 is not a prime number\n",
            "120 is not a prime number\n",
            "121 is not a prime number\n",
            "122 is not a prime number\n",
            "123 is not a prime number\n",
            "124 is not a prime number\n",
            "125 is not a prime number\n",
            "126 is not a prime number\n",
            "127 is a prime number\n",
            "128 is not a prime number\n",
            "129 is not a prime number\n",
            "130 is not a prime number\n",
            "131 is a prime number\n",
            "132 is not a prime number\n",
            "133 is not a prime number\n",
            "134 is not a prime number\n",
            "135 is not a prime number\n",
            "136 is not a prime number\n",
            "137 is a prime number\n",
            "138 is not a prime number\n",
            "139 is a prime number\n",
            "140 is not a prime number\n",
            "141 is not a prime number\n",
            "142 is not a prime number\n",
            "143 is not a prime number\n",
            "144 is not a prime number\n",
            "145 is not a prime number\n",
            "146 is not a prime number\n",
            "147 is not a prime number\n",
            "148 is not a prime number\n",
            "149 is a prime number\n",
            "150 is not a prime number\n",
            "151 is a prime number\n",
            "152 is not a prime number\n",
            "153 is not a prime number\n",
            "154 is not a prime number\n",
            "155 is not a prime number\n",
            "156 is not a prime number\n",
            "157 is a prime number\n",
            "158 is not a prime number\n",
            "159 is not a prime number\n",
            "160 is not a prime number\n",
            "161 is not a prime number\n",
            "162 is not a prime number\n",
            "163 is a prime number\n",
            "164 is not a prime number\n",
            "165 is not a prime number\n",
            "166 is not a prime number\n",
            "167 is a prime number\n",
            "168 is not a prime number\n",
            "169 is not a prime number\n",
            "170 is not a prime number\n",
            "171 is not a prime number\n",
            "172 is not a prime number\n",
            "173 is a prime number\n",
            "174 is not a prime number\n",
            "175 is not a prime number\n",
            "176 is not a prime number\n",
            "177 is not a prime number\n",
            "178 is not a prime number\n",
            "179 is a prime number\n",
            "180 is not a prime number\n",
            "181 is a prime number\n",
            "182 is not a prime number\n",
            "183 is not a prime number\n",
            "184 is not a prime number\n",
            "185 is not a prime number\n",
            "186 is not a prime number\n",
            "187 is not a prime number\n",
            "188 is not a prime number\n",
            "189 is not a prime number\n",
            "190 is not a prime number\n",
            "191 is a prime number\n",
            "192 is not a prime number\n",
            "193 is a prime number\n",
            "194 is not a prime number\n",
            "195 is not a prime number\n",
            "196 is not a prime number\n",
            "197 is a prime number\n",
            "198 is not a prime number\n",
            "199 is a prime number\n",
            "200 is not a prime number\n"
          ]
        }
      ]
    },
    {
      "cell_type": "markdown",
      "source": [
        "Q. 5 Create an iterator class in Python that generates the Fibonacci sequence up to a specified number of\n",
        "terms.\n"
      ],
      "metadata": {
        "id": "rZr5xJu5naXL"
      }
    },
    {
      "cell_type": "code",
      "source": [
        "def fibonacchi(n):\n",
        "    a, b = 0, 1\n",
        "    for i in range(n):\n",
        "        yield a\n",
        "        a, b = b, a+b"
      ],
      "metadata": {
        "id": "DhOafnwgoAZ6"
      },
      "execution_count": null,
      "outputs": []
    },
    {
      "cell_type": "code",
      "source": [
        "f = fibonacchi(100)"
      ],
      "metadata": {
        "id": "SAcapJgOoCmr"
      },
      "execution_count": null,
      "outputs": []
    },
    {
      "cell_type": "code",
      "source": [
        "next(f)"
      ],
      "metadata": {
        "colab": {
          "base_uri": "https://localhost:8080/"
        },
        "id": "WARBVXlAoLZM",
        "outputId": "2f26be24-6ecb-4f97-a161-815ad1247e11"
      },
      "execution_count": null,
      "outputs": [
        {
          "output_type": "execute_result",
          "data": {
            "text/plain": [
              "0"
            ]
          },
          "metadata": {},
          "execution_count": 24
        }
      ]
    },
    {
      "cell_type": "code",
      "source": [
        "next(f)"
      ],
      "metadata": {
        "colab": {
          "base_uri": "https://localhost:8080/"
        },
        "id": "YmaeXQCgoPoC",
        "outputId": "819692bb-ad31-4ac5-f1e5-726a34f6a271"
      },
      "execution_count": null,
      "outputs": [
        {
          "output_type": "execute_result",
          "data": {
            "text/plain": [
              "1"
            ]
          },
          "metadata": {},
          "execution_count": 25
        }
      ]
    },
    {
      "cell_type": "code",
      "source": [
        "next(f)"
      ],
      "metadata": {
        "colab": {
          "base_uri": "https://localhost:8080/"
        },
        "id": "F4rHA3psoRYQ",
        "outputId": "2b5baa15-5b26-481e-a07f-bbcb1fa51dfc"
      },
      "execution_count": null,
      "outputs": [
        {
          "output_type": "execute_result",
          "data": {
            "text/plain": [
              "1"
            ]
          },
          "metadata": {},
          "execution_count": 26
        }
      ]
    },
    {
      "cell_type": "code",
      "source": [
        "next(f)"
      ],
      "metadata": {
        "colab": {
          "base_uri": "https://localhost:8080/"
        },
        "id": "25gu6DTroVEr",
        "outputId": "544023fe-97f8-4a8d-d620-213e724e1fc4"
      },
      "execution_count": null,
      "outputs": [
        {
          "output_type": "execute_result",
          "data": {
            "text/plain": [
              "2"
            ]
          },
          "metadata": {},
          "execution_count": 27
        }
      ]
    },
    {
      "cell_type": "code",
      "source": [
        "next(f)"
      ],
      "metadata": {
        "colab": {
          "base_uri": "https://localhost:8080/"
        },
        "id": "0dIA-5cXoWEy",
        "outputId": "2176dbab-8b4c-42f3-8245-c28eb3b54742"
      },
      "execution_count": null,
      "outputs": [
        {
          "output_type": "execute_result",
          "data": {
            "text/plain": [
              "3"
            ]
          },
          "metadata": {},
          "execution_count": 28
        }
      ]
    },
    {
      "cell_type": "code",
      "source": [
        "next(f)"
      ],
      "metadata": {
        "colab": {
          "base_uri": "https://localhost:8080/"
        },
        "id": "dKJFZm6CoXLR",
        "outputId": "e093e465-03ce-4841-d27a-5d3192f2450d"
      },
      "execution_count": null,
      "outputs": [
        {
          "output_type": "execute_result",
          "data": {
            "text/plain": [
              "5"
            ]
          },
          "metadata": {},
          "execution_count": 29
        }
      ]
    },
    {
      "cell_type": "code",
      "source": [
        "next(f)"
      ],
      "metadata": {
        "colab": {
          "base_uri": "https://localhost:8080/"
        },
        "id": "anwVBNwQocSq",
        "outputId": "b4c53ede-70c9-4dde-dd6e-6626fb08cd7e"
      },
      "execution_count": null,
      "outputs": [
        {
          "output_type": "execute_result",
          "data": {
            "text/plain": [
              "8"
            ]
          },
          "metadata": {},
          "execution_count": 30
        }
      ]
    },
    {
      "cell_type": "markdown",
      "source": [
        "Q. 6 Write a generator function in Python that yields the powers of 2 up to a given exponent.\n"
      ],
      "metadata": {
        "id": "TKqpvDbSovIV"
      }
    },
    {
      "cell_type": "code",
      "source": [
        "def square_numbers_generators(n):# yield generator function\n",
        "    for i in range (n):\n",
        "        yield i**2\n",
        "square_numbers_generators(10)"
      ],
      "metadata": {
        "colab": {
          "base_uri": "https://localhost:8080/"
        },
        "id": "6Dpxu0RspS1i",
        "outputId": "c985ada2-eaed-4ede-eb75-8814f6706c8f"
      },
      "execution_count": null,
      "outputs": [
        {
          "output_type": "execute_result",
          "data": {
            "text/plain": [
              "<generator object square_numbers_generators at 0x7aa706950200>"
            ]
          },
          "metadata": {},
          "execution_count": 31
        }
      ]
    },
    {
      "cell_type": "code",
      "source": [
        "gen = square_numbers_generators(10)"
      ],
      "metadata": {
        "id": "D7C6sb7tpUSQ"
      },
      "execution_count": null,
      "outputs": []
    },
    {
      "cell_type": "code",
      "source": [
        "next(gen)"
      ],
      "metadata": {
        "colab": {
          "base_uri": "https://localhost:8080/"
        },
        "id": "EzOhVYAopYCP",
        "outputId": "24a7aec3-f6e8-4674-c6e0-3e0b4fadae67"
      },
      "execution_count": null,
      "outputs": [
        {
          "output_type": "execute_result",
          "data": {
            "text/plain": [
              "0"
            ]
          },
          "metadata": {},
          "execution_count": 33
        }
      ]
    },
    {
      "cell_type": "code",
      "source": [
        "next(gen)"
      ],
      "metadata": {
        "colab": {
          "base_uri": "https://localhost:8080/"
        },
        "id": "gxfXpDi2pcfU",
        "outputId": "db6711c5-0def-4e85-8188-f9e3fac52cbb"
      },
      "execution_count": null,
      "outputs": [
        {
          "output_type": "execute_result",
          "data": {
            "text/plain": [
              "1"
            ]
          },
          "metadata": {},
          "execution_count": 34
        }
      ]
    },
    {
      "cell_type": "code",
      "source": [
        "next(gen)"
      ],
      "metadata": {
        "colab": {
          "base_uri": "https://localhost:8080/"
        },
        "id": "02oZlfXQpeLV",
        "outputId": "54620c8a-4a4a-4889-88ca-eb43c25639e6"
      },
      "execution_count": null,
      "outputs": [
        {
          "output_type": "execute_result",
          "data": {
            "text/plain": [
              "4"
            ]
          },
          "metadata": {},
          "execution_count": 35
        }
      ]
    },
    {
      "cell_type": "code",
      "source": [
        "next(gen)"
      ],
      "metadata": {
        "colab": {
          "base_uri": "https://localhost:8080/"
        },
        "id": "YK0JrmeppklT",
        "outputId": "5e65c77e-7963-4768-f1ab-3394802c1bf2"
      },
      "execution_count": null,
      "outputs": [
        {
          "output_type": "execute_result",
          "data": {
            "text/plain": [
              "9"
            ]
          },
          "metadata": {},
          "execution_count": 36
        }
      ]
    },
    {
      "cell_type": "code",
      "source": [
        "next(gen)"
      ],
      "metadata": {
        "colab": {
          "base_uri": "https://localhost:8080/"
        },
        "id": "7me1G41kplsi",
        "outputId": "01950e41-3f8b-4a08-dc24-b766dbdcf37d"
      },
      "execution_count": null,
      "outputs": [
        {
          "output_type": "execute_result",
          "data": {
            "text/plain": [
              "16"
            ]
          },
          "metadata": {},
          "execution_count": 37
        }
      ]
    },
    {
      "cell_type": "markdown",
      "source": [
        "Q. 7 Implement a generator function that reads a file line by line and yields each line as a string.\n"
      ],
      "metadata": {
        "id": "1-MJ6bEypqYf"
      }
    },
    {
      "cell_type": "code",
      "source": [
        "def read_file_line_by_line(file_path):\n",
        "    \"\"\"Generator function to read a file line by line.\"\"\"\n",
        "    try:\n",
        "        with open(file_path, 'r') as file:\n",
        "            for line in file:\n",
        "                yield line.rstrip('\\n')  # Yield each line without the newline character\n",
        "    except FileNotFoundError:\n",
        "        print(f\"The file at {file_path} does not exist.\")\n",
        "    except IOError as e:\n",
        "        print(f\"An error occurred while reading the file: {e}\")\n",
        "\n",
        "  # Example usage:\n",
        "file_path = 'example.txt'  # Replace with your file path\n",
        "for line in read_file_line_by_line(file_path):\n",
        "  print(line)\n"
      ],
      "metadata": {
        "colab": {
          "base_uri": "https://localhost:8080/"
        },
        "id": "85iizw2wq6oP",
        "outputId": "2b1f1a54-34f6-46d1-be17-99f6d57e4676"
      },
      "execution_count": null,
      "outputs": [
        {
          "output_type": "stream",
          "name": "stdout",
          "text": [
            "The file at example.txt does not exist.\n"
          ]
        }
      ]
    },
    {
      "cell_type": "markdown",
      "source": [
        "Q. 8 Use a lambda function in Python to sort a list of tuples based on the second element of each tuple.\n",
        "Use a lambda function in Python to sort a list of tuples based on the second element of each tuple.\n"
      ],
      "metadata": {
        "id": "qadKlwMJrvFk"
      }
    },
    {
      "cell_type": "code",
      "source": [
        "tuples_list = [(1, 2), (3, 1), (2, 3), (4, 2)]\n",
        "\n",
        "sorted_list = sorted(tuples_list, key=lambda x: x[1])\n",
        "\n",
        "print(sorted_list)\n",
        "\n"
      ],
      "metadata": {
        "colab": {
          "base_uri": "https://localhost:8080/"
        },
        "id": "xsd4IEoLr1qC",
        "outputId": "a08e6056-7210-4fd9-c3a2-5628c5b466e2"
      },
      "execution_count": null,
      "outputs": [
        {
          "output_type": "stream",
          "name": "stdout",
          "text": [
            "[(3, 1), (1, 2), (4, 2), (2, 3)]\n"
          ]
        }
      ]
    },
    {
      "cell_type": "markdown",
      "source": [
        "Q. 9 Write a Python program that uses map() to convert a list of temperatures from Celsius to Fahrenheit."
      ],
      "metadata": {
        "id": "gHzqYwa6sdtb"
      }
    },
    {
      "cell_type": "code",
      "source": [
        "def celsius_to_fahrenheit(celsius):\n",
        "    return (celsius * 9/5) + 32\n",
        "\n",
        "celsius_temps = [50, 10, 20, 30, 35]\n",
        "\n",
        "fahrenheit_temps = list(map(celsius_to_fahrenheit, celsius_temps))\n",
        "\n",
        "print(fahrenheit_temps)\n"
      ],
      "metadata": {
        "colab": {
          "base_uri": "https://localhost:8080/"
        },
        "id": "-AE8G1dNs3Pd",
        "outputId": "cdff4905-b258-464e-a025-16eb66ae25b9"
      },
      "execution_count": null,
      "outputs": [
        {
          "output_type": "stream",
          "name": "stdout",
          "text": [
            "[122.0, 50.0, 68.0, 86.0, 95.0]\n"
          ]
        }
      ]
    },
    {
      "cell_type": "markdown",
      "source": [
        "Q. 10 Create a Python program that uses `filter()` to remove all the vowels from a given string."
      ],
      "metadata": {
        "id": "xpRwvEeJtBQJ"
      }
    },
    {
      "cell_type": "code",
      "source": [
        "def remove_vowel(str):\n",
        "  vowels = 'aeiouAEIOU'\n",
        "  result =''\n",
        "  filtered_char = filter(lambda x: x not in vowels, str)\n",
        "\n",
        "  for ch in filtered_char :\n",
        "    result += ch\n",
        "\n",
        "  return result\n",
        "\n",
        "remove_vowel('krishna kapse')"
      ],
      "metadata": {
        "colab": {
          "base_uri": "https://localhost:8080/",
          "height": 35
        },
        "id": "6CsRjpT9vwRt",
        "outputId": "9237bb51-fc8b-471a-8931-e073d25ad8ef"
      },
      "execution_count": null,
      "outputs": [
        {
          "output_type": "execute_result",
          "data": {
            "text/plain": [
              "'krshn kps'"
            ],
            "application/vnd.google.colaboratory.intrinsic+json": {
              "type": "string"
            }
          },
          "metadata": {},
          "execution_count": 48
        }
      ]
    },
    {
      "cell_type": "code",
      "source": [],
      "metadata": {
        "id": "Z106DKWwwIEH"
      },
      "execution_count": null,
      "outputs": []
    },
    {
      "cell_type": "markdown",
      "source": [
        "Q. 11 Imagine an accounting routine used in a book shop. It works on a list with sublists, which look like this:\n",
        "\n",
        "     #   Order Number       Bookt Title and Author           Quantity       price per item\n",
        "     #    34587           Learning Python, Mark Lutz            4            40.95\n",
        "     #    98762           Programming Python, Mark Lutz         5            56.80\n",
        "     #    77226          Einführung in Python3, Bernd Klein     3            32.95\n",
        "     #    88112          Einführung in Python3, Bernd Klein     3            24.99\n",
        "\n",
        "'''Write a Python program, which returns a list with 2-tuples. Each tuple consists of the order number and the\n",
        "product of the price per item and the quantity. The product should be increased by 10,- € if the value of the\n",
        "order is smaller than 100,00 €.\n",
        "\n",
        "Write a Python program using lambda and map'''"
      ],
      "metadata": {
        "id": "-_JLUuyAwOJV"
      }
    },
    {
      "cell_type": "code",
      "source": [
        "orders =[\n",
        "    [34587, 'Learning Python, Mark Lutz', 4, 40.95],\n",
        "    [98762, 'Programming Python, Mark Lutz', 5, 56.80],\n",
        "    [77226, 'Head First Python, Paul Barry', 3, 32.95],\n",
        "    [88112, 'Einführung in Python3, Bernd Klein', 3, 24.99]\n",
        "]\n",
        "\n",
        "tup_list = list(map(lambda x:(x[0], x[2]*x[3] if x[2]*x[3]>=100 else x[2]*x[3] +10), orders))\n",
        "tup_list"
      ],
      "metadata": {
        "colab": {
          "base_uri": "https://localhost:8080/"
        },
        "id": "oVGeq79xwV8W",
        "outputId": "f84138ca-fe6f-41ba-9f8f-9b42c17d6be3"
      },
      "execution_count": null,
      "outputs": [
        {
          "output_type": "stream",
          "name": "stdout",
          "text": [
            "[(34587, 163.8), (98762, 284.0), (77226, 108.85000000000001), (88112, 84.97)]\n"
          ]
        }
      ]
    },
    {
      "cell_type": "code",
      "source": [],
      "metadata": {
        "id": "L6xodNkTfICz"
      },
      "execution_count": null,
      "outputs": []
    }
  ]
}